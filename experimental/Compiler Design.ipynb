{
 "cells": [
  {
   "cell_type": "code",
   "execution_count": 16,
   "metadata": {},
   "outputs": [
    {
     "name": "stdout",
     "output_type": "stream",
     "text": [
      "Enter a word34f\n",
      "Not Identifier\n"
     ]
    }
   ],
   "source": [
    "# Check for identifier\n",
    "word = input(\"Enter a word\")\n",
    "\n",
    "import re\n",
    "\n",
    "if re.fullmatch(\"[A-Za-z_]\\w{0,31}\", word): \n",
    "    print(\"Indentifier\")\n",
    "else:\n",
    "    print(\"Not Identifier\")"
   ]
  },
  {
   "cell_type": "code",
   "execution_count": 38,
   "metadata": {},
   "outputs": [
    {
     "name": "stdout",
     "output_type": "stream",
     "text": [
      "Enter a worda\n",
      "String is recognized\n"
     ]
    }
   ],
   "source": [
    "# check if a string belongs to the RE\n",
    "word = input(\"Enter a word\")\n",
    "\n",
    "import re\n",
    "\n",
    "if re.fullmatch(\"a*((aa)|b)*\", word) or re.fullmatch(\"a*b+\"): \n",
    "    print(\"String is recognized\")\n",
    "else:\n",
    "    print(\"String is not recognized\")"
   ]
  },
  {
   "cell_type": "code",
   "execution_count": 71,
   "metadata": {},
   "outputs": [
    {
     "name": "stdout",
     "output_type": "stream",
     "text": [
      "Enter a production rulea->b|c\n",
      "a->b|c\n"
     ]
    }
   ],
   "source": [
    "def commonprefix(derives):\n",
    "    t = min(derives)\n",
    "    for s in derives:\n",
    "        for i, c in enumerate(s):\n",
    "            if c != t[i]:\n",
    "                return t[:i]\n",
    "    return t\n",
    "\n",
    "production = input(\"Enter a production rule\")\n",
    "left = production[0]\n",
    "derives = production[production.index('>') + 1:].split('|')\n",
    "\n",
    "prefix = commonprefix(derives)\n",
    "\n",
    "if (len(prefix) == 0 or len(derives) == 1):\n",
    "    print(left + \"->\" + \"|\".join(derives))\n",
    "else:\n",
    "    derives = [\"Z\" + d[len(prefix):] for d in derives]\n",
    "    print(left + \"->\" + \"|\".join(derives))\n",
    "    print(\"Z->\" + prefix)"
   ]
  },
  {
   "cell_type": "code",
   "execution_count": 2,
   "metadata": {},
   "outputs": [
    {
     "name": "stdout",
     "output_type": "stream",
     "text": [
      "['E->TA', 'A->+TA|e', 'T->FB', 'B->FB|e', 'F->aC|bC', 'C->*C|e']\n"
     ]
    }
   ],
   "source": [
    "from collections import defaultdict\n",
    "\n",
    "def removeLeftRecursion(production):\n",
    "    a = production[0]\n",
    "    derives = production[production.index(\">\") + 1:].split(\"|\")\n",
    "    betas = []\n",
    "    alphas = []\n",
    "    for each in derives:\n",
    "        if each[0] != a:\n",
    "            betas.append(each)\n",
    "        else:\n",
    "            alphas.append(each[1:])\n",
    "    if len(betas) == len(derives):\n",
    "        return [production]\n",
    "    global n\n",
    "    ad = extra[n]\n",
    "    n += 1\n",
    "    s = a + \"->\" + \"|\".join((i + ad) for i in betas)\n",
    "    s2 = ad + \"->\" + \"|\".join((i + ad) for i in alphas) + \"|e\"\n",
    "    return [s, s2]\n",
    "\n",
    "#cfg = [item for item in input(\"Enter the list items : \").split()]\n",
    "cfg = [item for item in \"E->E+T|T T->TF|F F->F*|a|b\".split()]\n",
    "start = 'E'\n",
    "\n",
    "isPresent = defaultdict(lambda: False)\n",
    "for production in cfg:\n",
    "    isPresent[production[0]] = True\n",
    "extra = []\n",
    "n = 0\n",
    "for c in range(ord('A'), ord('Z') + 1):\n",
    "    if isPresent[chr(c)] == False:\n",
    "        extra.append(chr(c))\n",
    "ans = []\n",
    "        \n",
    "for production in cfg:\n",
    "    for each in removeLeftRecursion(production): \n",
    "        ans.append(each)\n",
    "\n",
    "cfg = ans\n",
    "print(cfg)"
   ]
  },
  {
   "cell_type": "code",
   "execution_count": 3,
   "metadata": {},
   "outputs": [
    {
     "name": "stdout",
     "output_type": "stream",
     "text": [
      "E {'b', 'a'}\n",
      "A {'+', 'e'}\n",
      "T {'b', 'a'}\n",
      "B {'b', 'e', 'a'}\n",
      "F {'b', 'a'}\n",
      "C {'*', 'e'}\n"
     ]
    }
   ],
   "source": [
    "def isTerminal(c):\n",
    "    return not (ord(c) >= ord('A') and ord(c) <= ord('Z'))\n",
    "\n",
    "def getFirst(c):\n",
    "    if vis[c]:\n",
    "        return first[c]\n",
    "    if isTerminal(c):\n",
    "        vis[c] = True\n",
    "        first[c].add(c)\n",
    "        return first[c]\n",
    "    \n",
    "    for each in derives[c]:\n",
    "            ind = 0\n",
    "            while(ind < len(each)):\n",
    "                f = 0\n",
    "                for x in getFirst(each[ind]):\n",
    "                    if x == 'e':\n",
    "                        f = 1\n",
    "                    else:\n",
    "                        first[c].add(x)\n",
    "                if f == 0:\n",
    "                    break\n",
    "                ind += 1\n",
    "            if ind == len(each) and f == 1:\n",
    "                first[c].add('e')\n",
    "    vis[c] = True\n",
    "    return first[c]\n",
    "\n",
    "first = defaultdict(lambda: set())\n",
    "vis = defaultdict(lambda: False)\n",
    "\n",
    "derives = dict()\n",
    "for production in cfg:\n",
    "    derives[production[0]] = production[3:].split('|')\n",
    "    \n",
    "terminals = []\n",
    "\n",
    "for production in cfg:\n",
    "    for x in production:\n",
    "        if isTerminal(x):\n",
    "            vis[x] = True\n",
    "            first[x].add(x)\n",
    "            terminals.append(x)\n",
    "    getFirst(production[0])\n",
    "    \n",
    "for production in cfg:\n",
    "    print(production[0], first[production[0]])"
   ]
  },
  {
   "cell_type": "code",
   "execution_count": 4,
   "metadata": {},
   "outputs": [
    {
     "name": "stdout",
     "output_type": "stream",
     "text": [
      "E {'$'}\n",
      "A {'$'}\n",
      "T {'+', '$'}\n",
      "B {'+', '$'}\n",
      "F {'$', 'b', '+', 'a'}\n",
      "C {'a', 'b', '+', '$'}\n"
     ]
    }
   ],
   "source": [
    "follow = defaultdict(lambda: set())\n",
    "follow[start].add('$')\n",
    "vis = defaultdict(lambda: False)\n",
    "\n",
    "def getFollow(c):\n",
    "    if vis[c]:\n",
    "        return follow[c]\n",
    "    vis[c] = True\n",
    "    for production in cfg:\n",
    "        for d in derives[production[0]]:\n",
    "            for ind in range(len(d)):\n",
    "                if d[ind] != c:\n",
    "                    continue\n",
    "                ind += 1\n",
    "                f = 1\n",
    "                while(ind < len(d)):\n",
    "                    f = 0\n",
    "                    for x in first[d[ind]]:\n",
    "                        if x != 'e':\n",
    "                            follow[c].add(x)\n",
    "                        else:\n",
    "                            f = 1\n",
    "                    if f == 0:\n",
    "                        break   \n",
    "                    ind += 1\n",
    "                if ind >= len(d) and f == 1:\n",
    "                    for x in getFollow(production[0]):\n",
    "                        follow[c].add(x)\n",
    "    return follow[c]\n",
    "            \n",
    "for production in cfg:\n",
    "    getFollow(production[0])\n",
    "    print(production[0], follow[production[0]])"
   ]
  },
  {
   "cell_type": "code",
   "execution_count": 5,
   "metadata": {},
   "outputs": [
    {
     "name": "stdout",
     "output_type": "stream",
     "text": [
      "defaultdict(<function <lambda> at 0x0000016B66C3CB80>, {'Eb': 'TA', 'Ea': 'TA', 'A+': '+TA', 'A$': 'e', 'Tb': 'FB', 'Ta': 'FB', 'Bb': 'FB', 'Ba': 'FB', 'B+': 'e', 'B$': 'e', 'Fa': 'aC', 'Fb': 'bC', 'C*': '*C', 'Ca': 'e', 'Cb': 'e', 'C+': 'e', 'C$': 'e'})\n"
     ]
    }
   ],
   "source": [
    "table = defaultdict(lambda: '')\n",
    "\n",
    "def fillTable(c):\n",
    "    for each in derives[c]:\n",
    "            ind = 0\n",
    "            while(ind < len(each)):\n",
    "                f = 0\n",
    "                for x in first[each[ind]]:\n",
    "                    if x == 'e':\n",
    "                        f = 1\n",
    "                    else:\n",
    "                        table[c + x] = each\n",
    "                if f == 0:\n",
    "                    break\n",
    "                ind += 1\n",
    "            if ind == len(each) and f == 1:\n",
    "                for x in follow[c]:\n",
    "                    table[c + x] = each\n",
    "\n",
    "for production in cfg:\n",
    "    fillTable(production[0])\n",
    "\n",
    "print(table)"
   ]
  },
  {
   "cell_type": "code",
   "execution_count": 6,
   "metadata": {},
   "outputs": [
    {
     "name": "stdout",
     "output_type": "stream",
     "text": [
      "E a ['$', 'A', 'T']\n",
      "T a ['$', 'A', 'B', 'F']\n",
      "F a ['$', 'A', 'B', 'C', 'a']\n",
      "C + ['$', 'A', 'B', 'e']\n",
      "B + ['$', 'A', 'e']\n",
      "A + ['$', 'A', 'T', '+']\n",
      "T b ['$', 'A', 'B', 'F']\n",
      "F b ['$', 'A', 'B', 'C', 'b']\n",
      "C * ['$', 'A', 'B', 'C', '*']\n",
      "C a ['$', 'A', 'B', 'e']\n",
      "B a ['$', 'A', 'B', 'F']\n",
      "F a ['$', 'A', 'B', 'C', 'a']\n",
      "C $ ['$', 'A', 'B', 'e']\n",
      "B $ ['$', 'A', 'e']\n",
      "A $ ['$', 'e']\n",
      "String is accepted\n"
     ]
    }
   ],
   "source": [
    "#s = input(\"Enter the string\")\n",
    "s = \"a+b*a$\"\n",
    "i = 0\n",
    "f = 0\n",
    "stack = ['$', start]\n",
    "\n",
    "while(i < len(s) and len(stack) > 0):\n",
    "    ch = stack.pop()\n",
    "    if isTerminal(ch):\n",
    "        if ch == s[i]:\n",
    "            i = i + 1\n",
    "        elif ch != 'e':\n",
    "            print('String is not accepted')\n",
    "            f = 1\n",
    "            break\n",
    "    else:\n",
    "        t = table[ch + s[i]][::-1]\n",
    "        if len(t) == 0:\n",
    "            print('String is not accepted')\n",
    "            f = 1\n",
    "            break\n",
    "        stack.extend(t)\n",
    "        print(ch, s[i], stack)\n",
    "\n",
    "if f == 0:\n",
    "    print('String is accepted')"
   ]
  },
  {
   "cell_type": "code",
   "execution_count": 7,
   "metadata": {},
   "outputs": [
    {
     "data": {
      "text/plain": [
       "True"
      ]
     },
     "execution_count": 7,
     "metadata": {},
     "output_type": "execute_result"
    }
   ],
   "source": [
    "# RECURSIVE DESCENT PARSING\n",
    "\n",
    "#cfg = [item for item in input(\"Enter the list items : \").split()]\n",
    "cfg = [item for item in \"E->Ab|b A->ab\".split()]\n",
    "start = 'E'\n",
    "ans = []\n",
    "n = 0\n",
    "for production in cfg:\n",
    "    for each in removeLeftRecursion(production): \n",
    "        ans.append(each)\n",
    "cfg = ans\n",
    "#str = input(\"Enter the string\")\n",
    "str = \"ab\"\n",
    "ind = 0\n",
    "\n",
    "derives = dict()\n",
    "checkNext = dict()\n",
    "for production in cfg:\n",
    "    derives[production[0]] = production[3:].split('|')\n",
    "    checkNext[production[0]] = 0\n",
    "    \n",
    "    \n",
    "def isAccepted(c):\n",
    "    global ind\n",
    "    if isTerminal(c):\n",
    "        if c == 'e':\n",
    "            return True\n",
    "        if c == str[ind]: \n",
    "            ind += 1\n",
    "            return True\n",
    "        return False\n",
    "\n",
    "    prevInd = ind\n",
    "    while checkNext[c] != len(derives[c]):\n",
    "        ind = prevInd\n",
    "        t = derives[c][checkNext[c]]\n",
    "        checkNext[c] = checkNext[c] + 1\n",
    "        f = 0\n",
    "        for i in t:\n",
    "            temp = isAccepted(i)\n",
    "            if not temp:\n",
    "                f = 1\n",
    "                break\n",
    "            elif ind == len(str):\n",
    "                return True\n",
    "        if f == 0:\n",
    "            if c == start:\n",
    "                return ind == len(str)\n",
    "            return True\n",
    "    return False\n",
    "\n",
    "isAccepted(start)"
   ]
  },
  {
   "cell_type": "code",
   "execution_count": null,
   "metadata": {},
   "outputs": [],
   "source": []
  }
 ],
 "metadata": {
  "kernelspec": {
   "display_name": "Python 3",
   "language": "python",
   "name": "python3"
  },
  "language_info": {
   "codemirror_mode": {
    "name": "ipython",
    "version": 3
   },
   "file_extension": ".py",
   "mimetype": "text/x-python",
   "name": "python",
   "nbconvert_exporter": "python",
   "pygments_lexer": "ipython3",
   "version": "3.8.5"
  }
 },
 "nbformat": 4,
 "nbformat_minor": 4
}
